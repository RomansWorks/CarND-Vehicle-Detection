{
 "cells": [
  {
   "cell_type": "code",
   "execution_count": 2,
   "metadata": {
    "collapsed": false
   },
   "outputs": [
    {
     "name": "stdout",
     "output_type": "stream",
     "text": [
      "Test success\n"
     ]
    }
   ],
   "source": [
    "# from importlib import reload\n",
    "# reload(common_geometry)\n",
    "\n",
    "import common_geometry as cg\n",
    "from common_geometry import Rect, Point\n",
    "\n",
    "\n",
    "r_inner = Rect(Point(100, 200), Point(400, 300))\n",
    "r_outer = Rect(Point(50, 100), Point(600, 600))\n",
    "assert(r_inner.is_contained_in(r_outer) == True)\n",
    "assert(r_outer.is_contained_in(r_inner) == False)\n",
    "\n",
    "\n",
    "# # Create nearby boxes around a bbox. Used for incremental search\n",
    "# def bbox_to_nearby(bbox, steps_per_direction, step_overlap_horiz, step_overlap_vert, scale, keep_bbox):\n",
    "#     p1 = bbox[0]\n",
    "#     p1_x = p1[0]\n",
    "#     p1_y = p1[1]\n",
    "#     p2 = bbox[1]\n",
    "#     p2_x = p2[0]\n",
    "#     p2_y = p2[1]\n",
    "#     width = p2_x-p1_x\n",
    "#     height = p2_y-p1_y\n",
    "#     horizontal_step_size = int(width * (1-step_overlap_horiz))\n",
    "#     vertical_step_size = int(height * (1-step_overlap_vert))\n",
    "#     print(\"Step size for horiz\", horizontal_step_size)\n",
    "#     print(\"Step size for vert\", vertical_step_size)\n",
    "    \n",
    "#     windows = []\n",
    "#     windows.append(bbox)\n",
    "#     # Create windows per step in each direction\n",
    "#     for step in range(1, steps_per_direction+1):\n",
    "#         horiz_shift = horizontal_step_size*step\n",
    "#         vert_shift = vertical_step_size*step\n",
    "        \n",
    "#         left_win = shift_bbox(bbox, -horiz_shift, 0, keep_bbox)\n",
    "#         right_win = shift_bbox(bbox, +horiz_shift, 0, keep_bbox)\n",
    "#         top_win = shift_bbox(bbox, 0, -vert_shift, keep_bbox)     \n",
    "#         bottom_win = shift_bbox(bbox, 0, +vert_shift, keep_bbox)\n",
    "#         windows.extend([left_win, right_win, top_win, bottom_win])\n",
    "\n",
    "#         top_left_win = shift_bbox(bbox, -horiz_shift, -vert_shift, keep_bbox)\n",
    "#         top_right_win = shift_bbox(bbox, +horiz_shift, -vert_shift, keep_bbox)\n",
    "#         bottom_left_win = shift_bbox(bbox, -horiz_shift, +vert_shift, keep_bbox)     \n",
    "#         bottom_right_win = shift_bbox(bbox, +horiz_shift, +vert_shift, keep_bbox) \n",
    "#         windows.extend([top_left_win, top_right_win, bottom_left_win, bottom_right_win])\n",
    "\n",
    "#     # Filter out None windows (windows dropped due to boundary)\n",
    "#     windows = [window for window in windows if window is not None]\n",
    "#     return windows\n",
    "\n",
    "# keep_bbox = ((0,0),(1280, 720))\n",
    "# bbox1 = ((100,500),(200,700))\n",
    "# res = shift_bbox(bbox1, -10, 20, keep_bbox)\n",
    "# print(res) # should print ((90, 520), (190, 720))\n",
    "# res = shift_bbox(bbox1, 10, 30, keep_bbox)\n",
    "# print(res) # should print \"None\"\n",
    "# ress = bbox_to_nearby(bbox1, 1, 0.9, 0.9, 1, keep_bbox)\n",
    "# print(ress)\n",
    "\n",
    "\n",
    "\n",
    "\n",
    "\n",
    "\n",
    "\n",
    "\n",
    "\n",
    "\n",
    "cg.test_point()\n",
    "cg.test_rectangle()\n",
    "print(\"Test success\")\n",
    "\n"
   ]
  },
  {
   "cell_type": "code",
   "execution_count": null,
   "metadata": {
    "collapsed": true
   },
   "outputs": [],
   "source": [
    "# Algorithms implemented here:\n",
    "# 1. Simple search (window is applied with equal step sizes over all search area SEARCH_AREA)\n",
    "# 2. Horizon adaptation (Given a horizon point (we're actually only interested in the height of the horizon)\n",
    "# 3. Extract features per SCALED_IMAGE then pass to APPLY_FUNCTION_FOR_FEATURES\n",
    "# 4. Extract features per ORIGINAL_IMAGE, then scale them, the pass to APPLY_FUNCTION_FOR_FEATURES\n",
    "\n",
    "\n",
    "# The algorithm works as follows:\n",
    "# Create N_SCALES images (each resized to a smaller size, the size is interpolated between MIN_SCALE and MAX_SCALE using SCALE_INTERPOLATOR)\n",
    "# For each scale, we run WINDOW_SHAPE shaped window over the image, apply\n",
    "\n",
    "# Scale interpolator - should return an array of scales (your job is to determine min_scale, max_scale, n_steps, and interpolation function)\n",
    "def multiscale_sliding_window(image, search_area, scale_factors, window_calculator):\n",
    "    for scale_factor in scale_factors:\n",
    "        # Scale the image\n",
    "        target_size = (image.shape[0]*scale_factor, image_shape[1]*scale_factor)\n",
    "        img_scaled = cv2.resize(image, target_size)\n",
    "        # Scale the search area\n",
    "        search_area_scaled = search_area.scale(scale_factor)\n",
    "        # Calculate windows within rectangular area\n",
    "        windows = window_calculator(search_area_scaled)\n",
    "        # Apply classifier to each window\n",
    "        \n",
    "    \n",
    "    \n",
    "def simple_sliding_window(image, search_area)"
   ]
  }
 ],
 "metadata": {
  "kernelspec": {
   "display_name": "Python 3",
   "language": "python",
   "name": "python3"
  },
  "language_info": {
   "codemirror_mode": {
    "name": "ipython",
    "version": 3
   },
   "file_extension": ".py",
   "mimetype": "text/x-python",
   "name": "python",
   "nbconvert_exporter": "python",
   "pygments_lexer": "ipython3",
   "version": "3.5.2"
  },
  "widgets": {
   "state": {},
   "version": "1.1.2"
  }
 },
 "nbformat": 4,
 "nbformat_minor": 2
}
